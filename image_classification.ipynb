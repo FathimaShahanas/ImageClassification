{
  "nbformat": 4,
  "nbformat_minor": 0,
  "metadata": {
    "colab": {
      "provenance": [],
      "mount_file_id": "1HzqDD-u9vMxkeAm0Z801KPjqYrk3jhsw",
      "authorship_tag": "ABX9TyMejueZTeY2VfgTlLx60iYE",
      "include_colab_link": true
    },
    "kernelspec": {
      "name": "python3",
      "display_name": "Python 3"
    },
    "language_info": {
      "name": "python"
    }
  },
  "cells": [
    {
      "cell_type": "markdown",
      "metadata": {
        "id": "view-in-github",
        "colab_type": "text"
      },
      "source": [
        "<a href=\"https://colab.research.google.com/github/FathimaShahanas/ImageClassification/blob/main/image_classification.ipynb\" target=\"_parent\"><img src=\"https://colab.research.google.com/assets/colab-badge.svg\" alt=\"Open In Colab\"/></a>"
      ]
    },
    {
      "cell_type": "code",
      "execution_count": 1,
      "metadata": {
        "id": "KHxomkja6KtV"
      },
      "outputs": [],
      "source": [
        "import os"
      ]
    },
    {
      "cell_type": "code",
      "source": [
        "os.listdir('/content/drive/MyDrive/data/Cat')"
      ],
      "metadata": {
        "colab": {
          "base_uri": "https://localhost:8080/"
        },
        "id": "aJBjcyuW6r-w",
        "outputId": "54772046-16a4-46df-8fed-c97b2e0fd666"
      },
      "execution_count": 2,
      "outputs": [
        {
          "output_type": "execute_result",
          "data": {
            "text/plain": [
              "['cat.10.jpg',\n",
              " 'cat.11.jpg',\n",
              " 'cat.1 - Copy.jpg',\n",
              " 'cat.13.jpg',\n",
              " 'cat.16.jpg',\n",
              " 'cat.12.jpg',\n",
              " 'cat.17.jpg',\n",
              " 'cat.20.jpg',\n",
              " 'cat.21.jpg',\n",
              " 'cat.15.jpg',\n",
              " 'cat.14.jpg',\n",
              " 'cat.18.jpg',\n",
              " 'cat.2 - Copy.jpg',\n",
              " 'cat.3 - Copy.jpg',\n",
              " 'cat.29.jpg',\n",
              " 'cat.24.jpg',\n",
              " 'cat.30.jpg',\n",
              " 'cat.28.jpg',\n",
              " 'cat.27.jpg',\n",
              " 'cat.31.jpg',\n",
              " 'cat.50.jpg',\n",
              " 'cat.35.jpg',\n",
              " 'cat.36.jpg',\n",
              " 'cat.44.jpg',\n",
              " 'cat.33.jpg',\n",
              " 'cat.32.jpg',\n",
              " 'cat.42.jpg',\n",
              " 'cat.5 - Copy.jpg',\n",
              " 'cat.51.jpg',\n",
              " 'cat.41.jpg',\n",
              " 'cat.34.jpg',\n",
              " 'cat.37.jpg',\n",
              " 'cat.4 - Copy.jpg',\n",
              " 'cat.38.jpg',\n",
              " 'cat.54.jpg',\n",
              " 'cat.40.jpg',\n",
              " 'cat.47.jpg',\n",
              " 'cat.49.jpg',\n",
              " 'cat.39.jpg',\n",
              " 'cat.46.jpg',\n",
              " 'cat.48.jpg',\n",
              " 'cat.52.jpg',\n",
              " 'cat.5.jpg',\n",
              " 'cat.43.jpg',\n",
              " 'cat.53.jpg',\n",
              " 'cat.9.jpg',\n",
              " 'cat.8.jpg',\n",
              " 'cat.7.jpg',\n",
              " 'download.jpeg',\n",
              " 'download1.jpeg',\n",
              " 'download2.jpeg',\n",
              " 'download3.jpeg',\n",
              " 'download4.jpeg',\n",
              " 'download5.jpeg',\n",
              " 'download6.jpeg',\n",
              " 'download7.jpeg',\n",
              " 'download8.jpeg',\n",
              " 'images9.jpeg',\n",
              " 'images.jpeg',\n",
              " 'downloadcat.jpeg']"
            ]
          },
          "metadata": {},
          "execution_count": 2
        }
      ]
    },
    {
      "cell_type": "code",
      "source": [
        "os.listdir('/content/drive/MyDrive/data/Dog')"
      ],
      "metadata": {
        "colab": {
          "base_uri": "https://localhost:8080/"
        },
        "id": "yQIqZf4C60tA",
        "outputId": "38c86625-ebeb-477c-b7d0-183d39c1990d"
      },
      "execution_count": 3,
      "outputs": [
        {
          "output_type": "execute_result",
          "data": {
            "text/plain": [
              "['dog.14.jpg',\n",
              " 'dog.12.jpg',\n",
              " 'dog.15.jpg',\n",
              " 'dog.13.jpg',\n",
              " 'dog.20.jpg',\n",
              " 'dog.22.jpg',\n",
              " 'dog.19.jpg',\n",
              " 'dog.24.jpg',\n",
              " 'dog.17.jpg',\n",
              " 'dog.23.jpg',\n",
              " 'dog.16.jpg',\n",
              " 'dog.21.jpg',\n",
              " 'dog.18.jpg',\n",
              " 'dog.27.jpg',\n",
              " 'dog.25.jpg',\n",
              " 'dog.26.jpg',\n",
              " 'dog.31.jpg',\n",
              " 'dog.28.jpg',\n",
              " 'dog.33.jpg',\n",
              " 'dog.32.jpg',\n",
              " 'dog.30.jpg',\n",
              " 'dog.56.jpg',\n",
              " 'dog.57.jpg',\n",
              " 'dog.34.jpg',\n",
              " 'dog.35.jpg',\n",
              " 'dog.45.jpg',\n",
              " 'dog.47.jpg',\n",
              " 'dog.38.jpg',\n",
              " 'dog.58.jpg',\n",
              " 'dog.40.jpg',\n",
              " 'dog.60.jpg',\n",
              " 'dog.46.jpg',\n",
              " 'dog.39.jpg',\n",
              " 'dog.44.jpg',\n",
              " 'dog.51.jpg',\n",
              " 'dog.42.jpg',\n",
              " 'dog.48.jpg',\n",
              " 'dog.55.jpg',\n",
              " 'dog.36.jpg',\n",
              " 'dog.67.jpg',\n",
              " 'dog.77.jpg',\n",
              " 'dog.71.jpg',\n",
              " 'dog.65.jpg',\n",
              " 'dog.80.jpg',\n",
              " 'dog.78.jpg',\n",
              " 'dog.64.jpg',\n",
              " 'dog.66.jpg',\n",
              " 'dog.70.jpg',\n",
              " 'dog.81.jpg',\n",
              " 'dog.82.jpg',\n",
              " 'dog.69.jpg',\n",
              " 'dog.68.jpg',\n",
              " 'dog.79.jpg',\n",
              " 'dog.61.jpg',\n",
              " 'dog.63.jpg',\n",
              " 'dog.76.jpg',\n",
              " 'download1.jpeg',\n",
              " 'download2.jpeg',\n",
              " 'download3.jpeg',\n",
              " 'download4.jpeg',\n",
              " 'download5.jpeg',\n",
              " 'download6.jpeg',\n",
              " 'images.jpeg',\n",
              " 'images1.jpeg',\n",
              " 'download7.jpeg',\n",
              " 'download8.jpeg']"
            ]
          },
          "metadata": {},
          "execution_count": 3
        }
      ]
    },
    {
      "cell_type": "code",
      "source": [
        "import pandas as pd\n",
        "import matplotlib.pyplot as plt\n",
        "from skimage.transform import resize\n",
        "from skimage.io import imread\n",
        "from sklearn.svm import SVC\n",
        "from sklearn.model_selection import train_test_split\n",
        "from sklearn.metrics import classification_report,ConfusionMatrixDisplay"
      ],
      "metadata": {
        "id": "NYfXL-tXUrBv"
      },
      "execution_count": 4,
      "outputs": []
    },
    {
      "cell_type": "code",
      "source": [
        "data_array=[]\n",
        "target_array=[]\n",
        "Categories=['Cat','Dog']\n",
        "datadir='/content/drive/MyDrive/data'"
      ],
      "metadata": {
        "id": "18zfYuEMO5G8"
      },
      "execution_count": 6,
      "outputs": []
    },
    {
      "cell_type": "code",
      "source": [
        "for i in Categories:\n",
        "  sub_path=os.path.join(datadir,i)\n",
        "  images=os.listdir(sub_path)\n",
        "  for img in images:\n",
        "    img_path=os.path.join(sub_path,img)\n",
        "    img_array=imread(img_path)\n",
        "    img_resized=resize(img_array,(150,150,3))\n",
        "    data_array.append(img_resized.flatten())\n",
        "    target_array.append(Categories.index(i))\n",
        "  print('Loaded Category:',i)"
      ],
      "metadata": {
        "colab": {
          "base_uri": "https://localhost:8080/"
        },
        "id": "v6oIaKD2X-zM",
        "outputId": "1acb9abd-56c4-4299-c3fd-ff826825213b"
      },
      "execution_count": 9,
      "outputs": [
        {
          "output_type": "stream",
          "name": "stdout",
          "text": [
            "Loaded Category: Cat\n",
            "Loaded Category: Dog\n"
          ]
        }
      ]
    },
    {
      "cell_type": "code",
      "source": [],
      "metadata": {
        "id": "lr42FzPP2npr"
      },
      "execution_count": null,
      "outputs": []
    },
    {
      "cell_type": "code",
      "source": [],
      "metadata": {
        "id": "_CqWes0P1cbM"
      },
      "execution_count": null,
      "outputs": []
    }
  ]
}